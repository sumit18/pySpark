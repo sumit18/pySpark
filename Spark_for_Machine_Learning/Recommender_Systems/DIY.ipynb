{
 "cells": [
  {
   "cell_type": "code",
   "execution_count": 1,
   "metadata": {},
   "outputs": [],
   "source": [
    "from pyspark.sql import SparkSession\n",
    "spark = SparkSession.builder.appName(\"recommender\").getOrCreate()"
   ]
  },
  {
   "cell_type": "code",
   "execution_count": 2,
   "metadata": {},
   "outputs": [],
   "source": [
    "from pyspark.ml.recommendation import ALS"
   ]
  },
  {
   "cell_type": "code",
   "execution_count": 3,
   "metadata": {},
   "outputs": [],
   "source": [
    "from pyspark.ml.evaluation import RegressionEvaluator"
   ]
  },
  {
   "cell_type": "code",
   "execution_count": 4,
   "metadata": {},
   "outputs": [],
   "source": [
    "data = spark.read.csv(\"movielens_ratings.csv\", inferSchema=True, header=True)"
   ]
  },
  {
   "cell_type": "code",
   "execution_count": 5,
   "metadata": {},
   "outputs": [
    {
     "name": "stdout",
     "output_type": "stream",
     "text": [
      "+-------+------+------+\n",
      "|movieId|rating|userId|\n",
      "+-------+------+------+\n",
      "|      2|   3.0|     0|\n",
      "|      3|   1.0|     0|\n",
      "|      5|   2.0|     0|\n",
      "|      9|   4.0|     0|\n",
      "|     11|   1.0|     0|\n",
      "|     12|   2.0|     0|\n",
      "|     15|   1.0|     0|\n",
      "|     17|   1.0|     0|\n",
      "|     19|   1.0|     0|\n",
      "|     21|   1.0|     0|\n",
      "|     23|   1.0|     0|\n",
      "|     26|   3.0|     0|\n",
      "|     27|   1.0|     0|\n",
      "|     28|   1.0|     0|\n",
      "|     29|   1.0|     0|\n",
      "|     30|   1.0|     0|\n",
      "|     31|   1.0|     0|\n",
      "|     34|   1.0|     0|\n",
      "|     37|   1.0|     0|\n",
      "|     41|   2.0|     0|\n",
      "+-------+------+------+\n",
      "only showing top 20 rows\n",
      "\n"
     ]
    }
   ],
   "source": [
    "data.show()"
   ]
  },
  {
   "cell_type": "code",
   "execution_count": 6,
   "metadata": {},
   "outputs": [
    {
     "name": "stdout",
     "output_type": "stream",
     "text": [
      "+-------+------------------+------------------+------------------+\n",
      "|summary|           movieId|            rating|            userId|\n",
      "+-------+------------------+------------------+------------------+\n",
      "|  count|              1501|              1501|              1501|\n",
      "|   mean| 49.40572951365756|1.7741505662891406|14.383744170552964|\n",
      "| stddev|28.937034065088994| 1.187276166124803| 8.591040424293272|\n",
      "|    min|                 0|               1.0|                 0|\n",
      "|    max|                99|               5.0|                29|\n",
      "+-------+------------------+------------------+------------------+\n",
      "\n"
     ]
    }
   ],
   "source": [
    "data.describe().show()"
   ]
  },
  {
   "cell_type": "code",
   "execution_count": 7,
   "metadata": {},
   "outputs": [],
   "source": [
    "train_data, test_data = data.randomSplit([0.8,0.2])"
   ]
  },
  {
   "cell_type": "code",
   "execution_count": 8,
   "metadata": {},
   "outputs": [],
   "source": [
    "als = ALS(maxIter=5, regParam=0.01, userCol=\"userId\", itemCol=\"movieId\")"
   ]
  },
  {
   "cell_type": "code",
   "execution_count": 10,
   "metadata": {},
   "outputs": [],
   "source": [
    "model = als.fit(train_data)"
   ]
  },
  {
   "cell_type": "code",
   "execution_count": 11,
   "metadata": {},
   "outputs": [],
   "source": [
    "predictions = model.transform(test_data)"
   ]
  },
  {
   "cell_type": "code",
   "execution_count": 14,
   "metadata": {},
   "outputs": [
    {
     "name": "stdout",
     "output_type": "stream",
     "text": [
      "+-------+------+------+------------+\n",
      "|movieId|rating|userId|  prediction|\n",
      "+-------+------+------+------------+\n",
      "|     31|   1.0|    26|   1.4923139|\n",
      "|     31|   1.0|    27|  0.19679809|\n",
      "|     31|   2.0|    25|    4.407473|\n",
      "|     85|   1.0|    26|  0.23316789|\n",
      "|     85|   1.0|    12|  -1.5709426|\n",
      "|     85|   2.0|    20|   3.7046752|\n",
      "|     85|   1.0|    29|-0.047326416|\n",
      "|     85|   3.0|    21|   1.9578538|\n",
      "|     65|   1.0|    22|  0.18000746|\n",
      "|     65|   2.0|     3|  0.85863864|\n",
      "|     65|   2.0|    15|   1.9624407|\n",
      "|     53|   1.0|     6|   3.1019785|\n",
      "|     78|   1.0|     1|   1.0590881|\n",
      "|     78|   1.0|    17|  0.99363786|\n",
      "|     78|   1.0|     2|   0.9147366|\n",
      "|     34|   1.0|    28|   1.2848203|\n",
      "|     34|   3.0|     3|   0.8063948|\n",
      "|     34|   1.0|    15|   1.3039806|\n",
      "|     34|   3.0|    25|   3.8792422|\n",
      "|     28|   1.0|     6| -0.92633444|\n",
      "+-------+------+------+------------+\n",
      "only showing top 20 rows\n",
      "\n"
     ]
    }
   ],
   "source": [
    "predictions.show()"
   ]
  },
  {
   "cell_type": "code",
   "execution_count": 15,
   "metadata": {},
   "outputs": [],
   "source": [
    "evaluator = RegressionEvaluator(labelCol=\"rating\", metricName=\"rmse\")"
   ]
  },
  {
   "cell_type": "code",
   "execution_count": 16,
   "metadata": {},
   "outputs": [
    {
     "data": {
      "text/plain": [
       "1.763585034497697"
      ]
     },
     "execution_count": 16,
     "metadata": {},
     "output_type": "execute_result"
    }
   ],
   "source": [
    "evaluator.evaluate(predictions)"
   ]
  },
  {
   "cell_type": "code",
   "execution_count": 17,
   "metadata": {},
   "outputs": [],
   "source": [
    "single_user = test_data.filter(test_data[\"userId\"]==17).select(\"userId\", \"movieId\")"
   ]
  },
  {
   "cell_type": "code",
   "execution_count": 18,
   "metadata": {},
   "outputs": [
    {
     "name": "stdout",
     "output_type": "stream",
     "text": [
      "+------+-------+\n",
      "|userId|movieId|\n",
      "+------+-------+\n",
      "|    17|      3|\n",
      "|    17|     10|\n",
      "|    17|     22|\n",
      "|    17|     35|\n",
      "|    17|     45|\n",
      "|    17|     47|\n",
      "|    17|     56|\n",
      "|    17|     73|\n",
      "|    17|     78|\n",
      "|    17|     91|\n",
      "|    17|     93|\n",
      "+------+-------+\n",
      "\n"
     ]
    }
   ],
   "source": [
    "single_user.show()"
   ]
  },
  {
   "cell_type": "code",
   "execution_count": 20,
   "metadata": {},
   "outputs": [],
   "source": [
    "recommendations = model.transform(single_user)"
   ]
  },
  {
   "cell_type": "code",
   "execution_count": 21,
   "metadata": {},
   "outputs": [
    {
     "name": "stdout",
     "output_type": "stream",
     "text": [
      "+------+-------+-----------+\n",
      "|userId|movieId| prediction|\n",
      "+------+-------+-----------+\n",
      "|    17|     56|  2.7588134|\n",
      "|    17|     10|  1.8280376|\n",
      "|    17|     22|  1.7566909|\n",
      "|    17|     45|   1.624634|\n",
      "|    17|     47|  1.6128845|\n",
      "|    17|     93|  1.5270202|\n",
      "|    17|     91|  1.2672998|\n",
      "|    17|     73|   1.133004|\n",
      "|    17|     78| 0.99363786|\n",
      "|    17|      3|  0.2866574|\n",
      "|    17|     35|-0.37545285|\n",
      "+------+-------+-----------+\n",
      "\n"
     ]
    }
   ],
   "source": [
    "recommendations.orderBy(\"prediction\", ascending=False).show()"
   ]
  },
  {
   "cell_type": "code",
   "execution_count": 22,
   "metadata": {},
   "outputs": [],
   "source": [
    "meal = spark.read.csv(\"Meal_Info.csv\", inferSchema=True, header=True)"
   ]
  },
  {
   "cell_type": "code",
   "execution_count": 23,
   "metadata": {},
   "outputs": [
    {
     "name": "stdout",
     "output_type": "stream",
     "text": [
      "+-------+------+------+--------+--------------------+\n",
      "|movieId|rating|userId|mealskew|           meal_name|\n",
      "+-------+------+------+--------+--------------------+\n",
      "|      2|   3.0|     0|     2.0|       Chicken Curry|\n",
      "|      3|   1.0|     0|     3.0|Spicy Chicken Nug...|\n",
      "|      5|   2.0|     0|     5.0|           Hamburger|\n",
      "|      9|   4.0|     0|     9.0|       Taco Surprise|\n",
      "|     11|   1.0|     0|    11.0|            Meatloaf|\n",
      "|     12|   2.0|     0|    12.0|        Ceaser Salad|\n",
      "|     15|   1.0|     0|    15.0|            BBQ Ribs|\n",
      "|     17|   1.0|     0|    17.0|         Sushi Plate|\n",
      "|     19|   1.0|     0|    19.0|Cheesesteak Sandw...|\n",
      "|     21|   1.0|     0|    21.0|             Lasagna|\n",
      "|     23|   1.0|     0|    23.0|      Orange Chicken|\n",
      "|     26|   3.0|     0|    26.0|    Spicy Beef Plate|\n",
      "|     27|   1.0|     0|    27.0|Salmon with Mashe...|\n",
      "|     28|   1.0|     0|    28.0| Penne Tomatoe Pasta|\n",
      "|     29|   1.0|     0|    29.0|        Pork Sliders|\n",
      "|     30|   1.0|     0|    30.0| Vietnamese Sandwich|\n",
      "|     31|   1.0|     0|    31.0|        Chicken Wrap|\n",
      "|     34|   1.0|     0|    null|                null|\n",
      "|     37|   1.0|     0|    null|                null|\n",
      "|     41|   2.0|     0|    null|                null|\n",
      "+-------+------+------+--------+--------------------+\n",
      "only showing top 20 rows\n",
      "\n"
     ]
    }
   ],
   "source": [
    "meal.show()"
   ]
  }
 ],
 "metadata": {
  "kernelspec": {
   "display_name": "Python 3",
   "language": "python",
   "name": "python3"
  },
  "language_info": {
   "codemirror_mode": {
    "name": "ipython",
    "version": 3
   },
   "file_extension": ".py",
   "mimetype": "text/x-python",
   "name": "python",
   "nbconvert_exporter": "python",
   "pygments_lexer": "ipython3",
   "version": "3.7.3"
  }
 },
 "nbformat": 4,
 "nbformat_minor": 4
}
